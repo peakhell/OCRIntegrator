{
 "cells": [
  {
   "cell_type": "markdown",
   "id": "ac164a57-296f-47c1-aff1-ef496a66094d",
   "metadata": {},
   "source": [
    "# EASY OCR\n",
    "## Install\n",
    "```bash\n",
    "pip install easyocr\n",
    "```\n",
    "## demo"
   ]
  },
  {
   "cell_type": "code",
   "execution_count": 1,
   "id": "0faf24f6-2ed9-4c00-aea8-1c4d682955e5",
   "metadata": {},
   "source": [
    "import easyocr"
   ],
   "outputs": []
  },
  {
   "cell_type": "code",
   "execution_count": 2,
   "id": "56d2771d-c78a-4386-9fdf-7c9059189527",
   "metadata": {},
   "source": [
    "reader = easyocr.Reader(['ch_sim','en'])"
   ],
   "outputs": []
  },
  {
   "cell_type": "code",
   "execution_count": 5,
   "id": "0c334d44-897a-4080-a87d-964c86bcbdd5",
   "metadata": {},
   "source": [
    "%%time\n",
    "result = reader.readtext('data/test_chinese.png')\n",
    "result"
   ],
   "outputs": []
  },
  {
   "cell_type": "code",
   "execution_count": 6,
   "id": "43b86020-1f29-4105-b017-f7797928630c",
   "metadata": {},
   "source": [
    "%%time\n",
    "result = reader.readtext('data/00006737.jpg')\n",
    "result"
   ],
   "outputs": []
  },
  {
   "cell_type": "code",
   "execution_count": 7,
   "id": "2e1c5bc4-21ea-4c0e-a9d6-f0452a1e02aa",
   "metadata": {},
   "source": [
    "%%time\n",
    "reader.readtext('data/test_english.png')"
   ],
   "outputs": []
  },
  {
   "cell_type": "code",
   "execution_count": null,
   "id": "4452e404-dd13-4769-97f6-620e2c3dce7a",
   "metadata": {},
   "source": [],
   "outputs": []
  }
 ],
 "metadata": {
  "kernelspec": {
   "display_name": "Python 3 (ipykernel)",
   "language": "python",
   "name": "python3"
  },
  "language_info": {
   "codemirror_mode": {
    "name": "ipython",
    "version": 3
   },
   "file_extension": ".py",
   "mimetype": "text/x-python",
   "name": "python",
   "nbconvert_exporter": "python",
   "pygments_lexer": "ipython3",
   "version": "3.11.9"
  }
 },
 "nbformat": 4,
 "nbformat_minor": 5
}
